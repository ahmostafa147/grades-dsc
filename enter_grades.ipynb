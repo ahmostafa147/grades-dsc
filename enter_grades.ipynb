{
 "cells": [
  {
   "cell_type": "markdown",
   "metadata": {},
   "source": [
    "## DSC Courses: Assignment Grades Main"
   ]
  },
  {
   "cell_type": "code",
   "execution_count": null,
   "metadata": {},
   "outputs": [],
   "source": [
    "import sys\n",
    "sys.path.insert(0, 'src')\n",
    "\n",
    "# tables\n",
    "import numpy as np\n",
    "import pandas as pd\n",
    "\n",
    "# basic packages\n",
    "from glob import glob\n",
    "import json\n",
    "import re\n",
    "\n",
    "# grades, canvas\n",
    "from canvasapi import Canvas\n",
    "from third_parties import *"
   ]
  },
  {
   "cell_type": "markdown",
   "metadata": {},
   "source": [
    "### Setup"
   ]
  },
  {
   "cell_type": "markdown",
   "metadata": {},
   "source": [
    "#### Canvas Setup"
   ]
  },
  {
   "cell_type": "code",
   "execution_count": null,
   "metadata": {},
   "outputs": [],
   "source": [
    "# load credential\n",
    "CREDENTIAL_FILE = '.info/canvas_credentials.json'\n",
    "with open(CREDENTIAL_FILE) as f:\n",
    "    canvas_credential = json.load(f)"
   ]
  },
  {
   "cell_type": "code",
   "execution_count": null,
   "metadata": {},
   "outputs": [],
   "source": [
    "# Setup: Canvas\n",
    "API_URL = \"https://canvas.ucsd.edu/\"\n",
    "API_KEY = canvas_credential['API_KEY']        # Generate Access Token from Canvas\n",
    "COURSE_ID = canvas_credential['COURSE_ID']    # From Canvas Website\n",
    "COURSE = Canvas(API_URL, API_KEY).get_course(COURSE_ID)\n",
    "\n",
    "print(COURSE.name) # make sure title and quarter is correct"
   ]
  },
  {
   "cell_type": "markdown",
   "metadata": {},
   "source": [
    "#### Personnel Setup"
   ]
  },
  {
   "cell_type": "code",
   "execution_count": null,
   "metadata": {},
   "outputs": [],
   "source": [
    "# Setup: Student Profiles (ID, Name, Email)\n",
    "student_ls = []\n",
    "for stu in COURSE.get_users(enrollment_type=['student'], enrollment_state=['active']):\n",
    "    student_ls.append([stu.id, stu.name, stu.email])\n",
    "STUDENTS = pd.DataFrame(student_ls, columns=[\"id\", \"name\", \"email\"])\n",
    "STUDENTS.to_csv(\".info/students.csv\")\n",
    "print(STUDENTS.shape[0])"
   ]
  },
  {
   "cell_type": "code",
   "execution_count": null,
   "metadata": {},
   "outputs": [],
   "source": [
    "# Setup: Staff Profiles\n",
    "STAFF = pd.read_csv('../roster/staff_wi23.csv')['Email'].unique()"
   ]
  },
  {
   "cell_type": "code",
   "execution_count": null,
   "metadata": {},
   "outputs": [],
   "source": [
    "# Setup: Mismatched emails\n",
    "with open('.info/email_records.json') as f:\n",
    "    EMAIL_RECORDS = json.load(f)\n",
    "EMAIL_RECORDS"
   ]
  },
  {
   "cell_type": "markdown",
   "metadata": {},
   "source": [
    "### Slido"
   ]
  },
  {
   "cell_type": "code",
   "execution_count": null,
   "metadata": {
    "scrolled": false
   },
   "outputs": [],
   "source": [
    "# setup\n",
    "fname = glob(\"*[L][e][c]??.xlsx\")[0]\n",
    "aname = 'Lecture 01 (09/23)'  # change for each lecture\n",
    "\n",
    "# create gradebook\n",
    "slido_lec = Slido(COURSE, STUDENTS, STAFF, EMAIL_RECORDS, fname, aname)\n",
    "gradebook = slido_lec.create_gradebook()\n",
    "gradebook"
   ]
  },
  {
   "cell_type": "code",
   "execution_count": null,
   "metadata": {
    "scrolled": true
   },
   "outputs": [],
   "source": [
    "# once inspected, enter grades\n",
    "slido_lec.enter_grades()"
   ]
  },
  {
   "cell_type": "markdown",
   "metadata": {},
   "source": [
    "### Zybook Readings"
   ]
  },
  {
   "cell_type": "code",
   "execution_count": null,
   "metadata": {},
   "outputs": [],
   "source": [
    "# setup\n",
    "fname = glob(\"*[L][e][c]??.csv\")[0]\n",
    "aname = 'Zybook Readings 01 (09/23)'  # change for each assignment\n",
    "due_time = None\n",
    "\n",
    "# create gradebook\n",
    "zy_reading = Zybook(COURSE, STUDENTS, STAFF, EMAIL_RECORDS, fname, aname, due_time=due_time)\n",
    "config = {\n",
    "    '10.1': ['Participation', 'Challenge'],\n",
    "    '10.2': ['Participation', 'Challenge'],\n",
    "    '10.3': ['Participation', 'Challenge']\n",
    "}\n",
    "gradebook = zy_reading.create_gradebook(config=config)\n",
    "gradebook"
   ]
  },
  {
   "cell_type": "code",
   "execution_count": null,
   "metadata": {},
   "outputs": [],
   "source": [
    "# once inspected, enter grades\n",
    "zy_reading.enter_grades()"
   ]
  },
  {
   "cell_type": "markdown",
   "metadata": {},
   "source": [
    "### Discussion Zylabs"
   ]
  },
  {
   "cell_type": "code",
   "execution_count": null,
   "metadata": {},
   "outputs": [],
   "source": [
    "# setup\n",
    "fname = glob(\"*[D][i][s][c]??.csv\")[0]\n",
    "aname = 'Discussion Zylab Week 1 (09/27)'  # change for each assignment\n",
    "due_time = '2022-11-22 23:59'\n",
    "\n",
    "# create gradebook\n",
    "disc_zylab = Zybook(\n",
    "    COURSE, STUDENTS, STAFF, EMAIL_RECORDS, fname, aname,\n",
    "    dir_name='zylab',\n",
    "    assignment_group='Discussion Zylab',\n",
    "    due_time=due_time\n",
    ")\n",
    "config = {\n",
    "    '9.12': ['Lab'],\n",
    "    '9.13': ['Lab'],\n",
    "    '13.4': ['Participation'],\n",
    "    '13.8': ['Lab'],\n",
    "    '26.21': ['Lab']\n",
    "}\n",
    "gradebook = disc_zylab.create_gradebook(config=config)\n",
    "gradebook"
   ]
  },
  {
   "cell_type": "code",
   "execution_count": null,
   "metadata": {},
   "outputs": [],
   "source": [
    "# once inspected, enter grades\n",
    "disc_zylab.enter_grades()"
   ]
  },
  {
   "cell_type": "markdown",
   "metadata": {},
   "source": [
    "### Gradescope Homework/Project"
   ]
  },
  {
   "cell_type": "code",
   "execution_count": null,
   "metadata": {},
   "outputs": [],
   "source": [
    "aname = 'hw01'  # change for each assignment\n",
    "fname = aname + \"_scores.csv\"\n",
    "due_time = '2022-01-17 23:59'\n",
    "\n",
    "# other files\n",
    "lateness_file = aname + \"_lateness.csv\"\n",
    "other_section_files = {'checkpoint': aname + '_checkpoint.csv'}\n",
    "\n",
    "# create gradebook\n",
    "gs_hw = Gradescope(\n",
    "    COURSE, STUDENTS, STAFF, EMAIL_RECORDS, fname, aname,\n",
    "    lateness_policy='slip_day',\n",
    "    lateness_file=lateness_file,\n",
    "    total_slip_days=5,\n",
    "    # other_section_files=other_section_files,\n",
    "    due_time=due_time\n",
    ")\n",
    "\n",
    "# late_policy = {\n",
    "#     'no late': 1.0,\n",
    "#     '1 day': 0.8,\n",
    "#     '2 days': 0.5\n",
    "# }\n",
    "\n",
    "gradebook = gs_hw.create_gradebook()  # defaults take 1 slip day\n",
    "gradebook"
   ]
  },
  {
   "cell_type": "code",
   "execution_count": null,
   "metadata": {
    "scrolled": true
   },
   "outputs": [],
   "source": [
    "# once inspected, enter grades\n",
    "mismatch = gs_hw.enter_grades()"
   ]
  },
  {
   "cell_type": "code",
   "execution_count": null,
   "metadata": {
    "scrolled": true
   },
   "outputs": [],
   "source": [
    "gs_hw.process_slip_day()"
   ]
  },
  {
   "cell_type": "markdown",
   "metadata": {},
   "source": [
    "### Student Search"
   ]
  },
  {
   "cell_type": "code",
   "execution_count": null,
   "metadata": {},
   "outputs": [],
   "source": [
    "# find student\n",
    "STUDENTS[STUDENTS['email'].str.lower().str.contains('<email>')]"
   ]
  },
  {
   "cell_type": "code",
   "execution_count": null,
   "metadata": {},
   "outputs": [],
   "source": [
    "# find grade: version 1\n",
    "gradebook[gradebook.index.str.lower().str.contains('<email>', na=False)]"
   ]
  },
  {
   "cell_type": "code",
   "execution_count": null,
   "metadata": {},
   "outputs": [],
   "source": [
    "# find grade: version 2\n",
    "gradebook[gradebook['name'].str.lower().str.contains('<name>', na=False)]"
   ]
  },
  {
   "cell_type": "markdown",
   "metadata": {},
   "source": [
    "### Debug Results"
   ]
  },
  {
   "cell_type": "code",
   "execution_count": null,
   "metadata": {},
   "outputs": [],
   "source": [
    "# modify EMAIL_RECORDS\n",
    "EMAIL_RECORDS['<incorrectly typed>'] = '<correct email>'"
   ]
  },
  {
   "cell_type": "code",
   "execution_count": null,
   "metadata": {},
   "outputs": [],
   "source": [
    "EMAIL_RECORDS"
   ]
  },
  {
   "cell_type": "code",
   "execution_count": null,
   "metadata": {},
   "outputs": [],
   "source": [
    "with open('.info/email_records.json', 'w') as f:\n",
    "    json.dump(EMAIL_RECORDS, f, sort_keys=True)"
   ]
  }
 ],
 "metadata": {
  "kernelspec": {
   "display_name": "Python 3 (ipykernel)",
   "language": "python",
   "name": "python3"
  },
  "language_info": {
   "codemirror_mode": {
    "name": "ipython",
    "version": 3
   },
   "file_extension": ".py",
   "mimetype": "text/x-python",
   "name": "python",
   "nbconvert_exporter": "python",
   "pygments_lexer": "ipython3",
   "version": "3.8.8"
  },
  "latex_envs": {
   "LaTeX_envs_menu_present": true,
   "autoclose": false,
   "autocomplete": true,
   "bibliofile": "biblio.bib",
   "cite_by": "apalike",
   "current_citInitial": 1,
   "eqLabelWithNumbers": true,
   "eqNumInitial": 1,
   "hotkeys": {
    "equation": "Ctrl-E",
    "itemize": "Ctrl-I"
   },
   "labels_anchors": false,
   "latex_user_defs": false,
   "report_style_numbering": false,
   "user_envs_cfg": false
  },
  "vscode": {
   "interpreter": {
    "hash": "57bc2b6ce032b5f0e93daa91901b7ea38a856826ef43aa9e95b6d3999f5310df"
   }
  }
 },
 "nbformat": 4,
 "nbformat_minor": 2
}
